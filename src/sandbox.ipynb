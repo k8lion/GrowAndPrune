{
 "cells": [
  {
   "cell_type": "code",
   "execution_count": 1,
   "metadata": {},
   "outputs": [
    {
     "name": "stdout",
     "output_type": "stream",
     "text": [
      "Requirement already satisfied: numpy in /home/kaitlin/repos/NeurOps/pytorch/venv/lib/python3.10/site-packages (from -r ../requirements.txt (line 1)) (1.23.5)\n",
      "Requirement already satisfied: torch in /home/kaitlin/repos/NeurOps/pytorch/venv/lib/python3.10/site-packages (from -r ../requirements.txt (line 2)) (1.13.1)\n",
      "Requirement already satisfied: torchvision in /home/kaitlin/repos/NeurOps/pytorch/venv/lib/python3.10/site-packages (from -r ../requirements.txt (line 3)) (0.14.1)\n",
      "Requirement already satisfied: transformers in /home/kaitlin/repos/NeurOps/pytorch/venv/lib/python3.10/site-packages (from -r ../requirements.txt (line 4)) (4.25.1)\n",
      "Requirement already satisfied: nvidia-cuda-runtime-cu11==11.7.99 in /home/kaitlin/repos/NeurOps/pytorch/venv/lib/python3.10/site-packages (from torch->-r ../requirements.txt (line 2)) (11.7.99)\n",
      "Requirement already satisfied: nvidia-cuda-nvrtc-cu11==11.7.99 in /home/kaitlin/repos/NeurOps/pytorch/venv/lib/python3.10/site-packages (from torch->-r ../requirements.txt (line 2)) (11.7.99)\n",
      "Requirement already satisfied: typing-extensions in /home/kaitlin/repos/NeurOps/pytorch/venv/lib/python3.10/site-packages (from torch->-r ../requirements.txt (line 2)) (4.4.0)\n",
      "Requirement already satisfied: nvidia-cudnn-cu11==8.5.0.96 in /home/kaitlin/repos/NeurOps/pytorch/venv/lib/python3.10/site-packages (from torch->-r ../requirements.txt (line 2)) (8.5.0.96)\n",
      "Requirement already satisfied: nvidia-cublas-cu11==11.10.3.66 in /home/kaitlin/repos/NeurOps/pytorch/venv/lib/python3.10/site-packages (from torch->-r ../requirements.txt (line 2)) (11.10.3.66)\n",
      "Requirement already satisfied: wheel in /home/kaitlin/repos/NeurOps/pytorch/venv/lib/python3.10/site-packages (from nvidia-cublas-cu11==11.10.3.66->torch->-r ../requirements.txt (line 2)) (0.38.4)\n",
      "Requirement already satisfied: setuptools in /home/kaitlin/repos/NeurOps/pytorch/venv/lib/python3.10/site-packages (from nvidia-cublas-cu11==11.10.3.66->torch->-r ../requirements.txt (line 2)) (63.2.0)\n",
      "Requirement already satisfied: pillow!=8.3.*,>=5.3.0 in /home/kaitlin/repos/NeurOps/pytorch/venv/lib/python3.10/site-packages (from torchvision->-r ../requirements.txt (line 3)) (9.4.0)\n",
      "Requirement already satisfied: requests in /home/kaitlin/repos/NeurOps/pytorch/venv/lib/python3.10/site-packages (from torchvision->-r ../requirements.txt (line 3)) (2.28.1)\n",
      "Requirement already satisfied: filelock in /home/kaitlin/repos/NeurOps/pytorch/venv/lib/python3.10/site-packages (from transformers->-r ../requirements.txt (line 4)) (3.8.2)\n",
      "Requirement already satisfied: huggingface-hub<1.0,>=0.10.0 in /home/kaitlin/repos/NeurOps/pytorch/venv/lib/python3.10/site-packages (from transformers->-r ../requirements.txt (line 4)) (0.11.1)\n",
      "Requirement already satisfied: pyyaml>=5.1 in /home/kaitlin/repos/NeurOps/pytorch/venv/lib/python3.10/site-packages (from transformers->-r ../requirements.txt (line 4)) (6.0)\n",
      "Requirement already satisfied: tokenizers!=0.11.3,<0.14,>=0.11.1 in /home/kaitlin/repos/NeurOps/pytorch/venv/lib/python3.10/site-packages (from transformers->-r ../requirements.txt (line 4)) (0.13.2)\n",
      "Requirement already satisfied: packaging>=20.0 in /home/kaitlin/repos/NeurOps/pytorch/venv/lib/python3.10/site-packages (from transformers->-r ../requirements.txt (line 4)) (22.0)\n",
      "Requirement already satisfied: regex!=2019.12.17 in /home/kaitlin/repos/NeurOps/pytorch/venv/lib/python3.10/site-packages (from transformers->-r ../requirements.txt (line 4)) (2022.10.31)\n",
      "Requirement already satisfied: tqdm>=4.27 in /home/kaitlin/repos/NeurOps/pytorch/venv/lib/python3.10/site-packages (from transformers->-r ../requirements.txt (line 4)) (4.64.1)\n",
      "Requirement already satisfied: urllib3<1.27,>=1.21.1 in /home/kaitlin/repos/NeurOps/pytorch/venv/lib/python3.10/site-packages (from requests->torchvision->-r ../requirements.txt (line 3)) (1.26.13)\n",
      "Requirement already satisfied: charset-normalizer<3,>=2 in /home/kaitlin/repos/NeurOps/pytorch/venv/lib/python3.10/site-packages (from requests->torchvision->-r ../requirements.txt (line 3)) (2.1.1)\n",
      "Requirement already satisfied: certifi>=2017.4.17 in /home/kaitlin/repos/NeurOps/pytorch/venv/lib/python3.10/site-packages (from requests->torchvision->-r ../requirements.txt (line 3)) (2022.12.7)\n",
      "Requirement already satisfied: idna<4,>=2.5 in /home/kaitlin/repos/NeurOps/pytorch/venv/lib/python3.10/site-packages (from requests->torchvision->-r ../requirements.txt (line 3)) (3.4)\n",
      "\n",
      "\u001b[1m[\u001b[0m\u001b[34;49mnotice\u001b[0m\u001b[1;39;49m]\u001b[0m\u001b[39;49m A new release of pip available: \u001b[0m\u001b[31;49m22.2.2\u001b[0m\u001b[39;49m -> \u001b[0m\u001b[32;49m22.3.1\u001b[0m\n",
      "\u001b[1m[\u001b[0m\u001b[34;49mnotice\u001b[0m\u001b[1;39;49m]\u001b[0m\u001b[39;49m To update, run: \u001b[0m\u001b[32;49mpip install --upgrade pip\u001b[0m\n"
     ]
    }
   ],
   "source": [
    "! pip install -r ../requirements.txt"
   ]
  },
  {
   "cell_type": "code",
   "execution_count": 12,
   "metadata": {},
   "outputs": [],
   "source": [
    "import numpy as np\n",
    "import torch\n",
    "import copy\n",
    "\n",
    "import sys\n",
    "import os\n",
    "sys.path.append(os.path.expanduser(\"~/repos/NeurOps/pytorch\"))\n",
    "from neurops import *\n",
    "\n",
    "from growprune import *\n",
    "\n",
    "device = torch.device(\"cuda\" if torch.cuda.is_available() else \"cpu\")"
   ]
  },
  {
   "cell_type": "code",
   "execution_count": 9,
   "metadata": {},
   "outputs": [
    {
     "name": "stdout",
     "output_type": "stream",
     "text": [
      "This model has 1378 effective parameters.\n"
     ]
    }
   ],
   "source": [
    "hidden = [16, 16]\n",
    "regression = False\n",
    "\n",
    "base_data = ToyData(64, 32, 5000, regression=regression)\n",
    "train_loader, val_loader, test_loader = split_dataset(base_data, val_size = 0.1, test_size = 0.1, batch_size = 128)\n",
    "\n",
    "\n",
    "\n",
    "model = ModSequential(\n",
    "        ModLinear(64, hidden[0], masked=True, prebatchnorm=True, learnable_mask=True),\n",
    "        ModLinear(hidden[0], hidden[1], masked=True, prebatchnorm=True, learnable_mask=True),\n",
    "        ModLinear(hidden[1], 1 if regression else 2, masked=True, prebatchnorm=True),\n",
    "        track_activations=True,\n",
    "        track_auxiliary_gradients=True\n",
    "    ).to(device)\n",
    "optimizer = torch.optim.SGD(model.parameters(), lr=0.01)\n",
    "criterion = torch.nn.MSELoss() if regression else torch.nn.CrossEntropyLoss()\n",
    "\n",
    "print(\"This model has {} effective parameters.\".format(model.parameter_count(masked = True)))\n",
    "#print(\"The conversion factor of this model is {} after layer {}.\".format(model.conversion_factor, model.conversion_layer))"
   ]
  },
  {
   "cell_type": "code",
   "execution_count": 10,
   "metadata": {},
   "outputs": [
    {
     "name": "stdout",
     "output_type": "stream",
     "text": [
      "Validation: Average loss: 0.0062, Accuracy: 215/450 (47.78%)\n",
      "Validation: Average loss: 0.0061, Accuracy: 234/450 (52.00%)\n",
      "Validation: Average loss: 0.0060, Accuracy: 262/450 (58.22%)\n",
      "Validation: Average loss: 0.0059, Accuracy: 273/450 (60.67%)\n",
      "Validation: Average loss: 0.0058, Accuracy: 291/450 (64.67%)\n",
      "Validation: Average loss: 0.0056, Accuracy: 313/450 (69.56%)\n",
      "Validation: Average loss: 0.0053, Accuracy: 327/450 (72.67%)\n",
      "Validation: Average loss: 0.0050, Accuracy: 331/450 (73.56%)\n",
      "Validation: Average loss: 0.0046, Accuracy: 348/450 (77.33%)\n",
      "Validation: Average loss: 0.0041, Accuracy: 356/450 (79.11%)\n",
      "Validation: Average loss: 0.0037, Accuracy: 370/450 (82.22%)\n",
      "Validation: Average loss: 0.0031, Accuracy: 381/450 (84.67%)\n",
      "Validation: Average loss: 0.0027, Accuracy: 399/450 (88.67%)\n",
      "Validation: Average loss: 0.0023, Accuracy: 412/450 (91.56%)\n",
      "Validation: Average loss: 0.0020, Accuracy: 417/450 (92.67%)\n",
      "Validation: Average loss: 0.0018, Accuracy: 418/450 (92.89%)\n",
      "Validation: Average loss: 0.0016, Accuracy: 424/450 (94.22%)\n",
      "Validation: Average loss: 0.0015, Accuracy: 424/450 (94.22%)\n",
      "Validation: Average loss: 0.0013, Accuracy: 426/450 (94.67%)\n",
      "Validation: Average loss: 0.0013, Accuracy: 427/450 (94.89%)\n",
      "Validation: Average loss: 0.0011, Accuracy: 429/450 (95.33%)\n",
      "Validation: Average loss: 0.0011, Accuracy: 428/450 (95.11%)\n",
      "Validation: Average loss: 0.0010, Accuracy: 432/450 (96.00%)\n",
      "Validation: Average loss: 0.0010, Accuracy: 432/450 (96.00%)\n",
      "Validation: Average loss: 0.0010, Accuracy: 432/450 (96.00%)\n"
     ]
    }
   ],
   "source": [
    "train(model, train_loader, optimizer, criterion, epochs=25, val_loader=val_loader, device=device, regression=regression, verbose=False)"
   ]
  },
  {
   "cell_type": "code",
   "execution_count": 22,
   "metadata": {},
   "outputs": [],
   "source": [
    "modded_data = copy.deepcopy(base_data)\n",
    "modded_data.shift_distribution(-1, 100)\n",
    "modded_train_loader, modded_val_loader, modded_test_loader = split_dataset(modded_data, val_size = 0.1, test_size = 0.1, batch_size = 128)"
   ]
  },
  {
   "cell_type": "code",
   "execution_count": 23,
   "metadata": {},
   "outputs": [
    {
     "name": "stdout",
     "output_type": "stream",
     "text": [
      "Validation: Average loss: 0.0000, Accuracy: 449/450 (99.78%)\n",
      "Validation: Average loss: 0.0000, Accuracy: 450/450 (100.00%)\n",
      "Validation: Average loss: 0.0000, Accuracy: 450/450 (100.00%)\n",
      "Validation: Average loss: 0.0000, Accuracy: 450/450 (100.00%)\n",
      "Validation: Average loss: 0.0000, Accuracy: 450/450 (100.00%)\n",
      "Validation: Average loss: 0.0000, Accuracy: 450/450 (100.00%)\n",
      "Validation: Average loss: 0.0000, Accuracy: 450/450 (100.00%)\n",
      "Validation: Average loss: 0.0000, Accuracy: 450/450 (100.00%)\n",
      "Validation: Average loss: 0.0000, Accuracy: 450/450 (100.00%)\n",
      "Validation: Average loss: 0.0000, Accuracy: 450/450 (100.00%)\n",
      "Validation: Average loss: 0.0000, Accuracy: 450/450 (100.00%)\n",
      "Validation: Average loss: 0.0000, Accuracy: 450/450 (100.00%)\n",
      "Validation: Average loss: 0.0000, Accuracy: 450/450 (100.00%)\n",
      "Validation: Average loss: 0.0000, Accuracy: 450/450 (100.00%)\n",
      "Validation: Average loss: 0.0000, Accuracy: 450/450 (100.00%)\n",
      "Validation: Average loss: 0.0000, Accuracy: 450/450 (100.00%)\n",
      "Validation: Average loss: 0.0000, Accuracy: 450/450 (100.00%)\n",
      "Validation: Average loss: 0.0000, Accuracy: 450/450 (100.00%)\n",
      "Validation: Average loss: 0.0000, Accuracy: 450/450 (100.00%)\n",
      "Validation: Average loss: 0.0000, Accuracy: 450/450 (100.00%)\n",
      "Validation: Average loss: 0.0000, Accuracy: 450/450 (100.00%)\n",
      "Validation: Average loss: 0.0000, Accuracy: 450/450 (100.00%)\n",
      "Validation: Average loss: 0.0000, Accuracy: 450/450 (100.00%)\n",
      "Validation: Average loss: 0.0000, Accuracy: 450/450 (100.00%)\n",
      "Validation: Average loss: 0.0000, Accuracy: 450/450 (100.00%)\n",
      "Average loss: 0.0062, Accuracy: 240/450 (53.33%)\n"
     ]
    }
   ],
   "source": [
    "train(model, modded_train_loader, optimizer, criterion, epochs=25, val_loader=modded_val_loader, device=device, regression=regression, verbose=False)\n",
    "test(model, val_loader, criterion, device=device, regression=regression)"
   ]
  }
 ],
 "metadata": {
  "kernelspec": {
   "display_name": "venv",
   "language": "python",
   "name": "python3"
  },
  "language_info": {
   "codemirror_mode": {
    "name": "ipython",
    "version": 3
   },
   "file_extension": ".py",
   "mimetype": "text/x-python",
   "name": "python",
   "nbconvert_exporter": "python",
   "pygments_lexer": "ipython3",
   "version": "3.10.9"
  },
  "orig_nbformat": 4,
  "vscode": {
   "interpreter": {
    "hash": "17b88845c8368f4e9bf0ab0c6bd871dae3b65fc6e015c8990d2b5b0cf4897a6f"
   }
  }
 },
 "nbformat": 4,
 "nbformat_minor": 2
}
