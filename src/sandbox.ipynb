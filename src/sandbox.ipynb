{
 "cells": [
  {
   "cell_type": "code",
   "execution_count": 4,
   "metadata": {},
   "outputs": [
    {
     "name": "stdout",
     "output_type": "stream",
     "text": [
      "Requirement already satisfied: numpy in /home/kaitlin/repos/NeurOps/pytorch/venv/lib/python3.10/site-packages (from -r ../requirements.txt (line 1)) (1.23.5)\n",
      "Requirement already satisfied: torch in /home/kaitlin/repos/NeurOps/pytorch/venv/lib/python3.10/site-packages (from -r ../requirements.txt (line 2)) (1.13.0)\n",
      "Collecting torchvision\n",
      "  Using cached torchvision-0.14.1-cp310-cp310-manylinux1_x86_64.whl (24.2 MB)\n",
      "Requirement already satisfied: transformers in /home/kaitlin/repos/NeurOps/pytorch/venv/lib/python3.10/site-packages (from -r ../requirements.txt (line 4)) (4.25.1)\n",
      "Requirement already satisfied: nvidia-cublas-cu11==11.10.3.66 in /home/kaitlin/repos/NeurOps/pytorch/venv/lib/python3.10/site-packages (from torch->-r ../requirements.txt (line 2)) (11.10.3.66)\n",
      "Requirement already satisfied: nvidia-cudnn-cu11==8.5.0.96 in /home/kaitlin/repos/NeurOps/pytorch/venv/lib/python3.10/site-packages (from torch->-r ../requirements.txt (line 2)) (8.5.0.96)\n",
      "Requirement already satisfied: nvidia-cuda-runtime-cu11==11.7.99 in /home/kaitlin/repos/NeurOps/pytorch/venv/lib/python3.10/site-packages (from torch->-r ../requirements.txt (line 2)) (11.7.99)\n",
      "Requirement already satisfied: nvidia-cuda-nvrtc-cu11==11.7.99 in /home/kaitlin/repos/NeurOps/pytorch/venv/lib/python3.10/site-packages (from torch->-r ../requirements.txt (line 2)) (11.7.99)\n",
      "Requirement already satisfied: typing-extensions in /home/kaitlin/repos/NeurOps/pytorch/venv/lib/python3.10/site-packages (from torch->-r ../requirements.txt (line 2)) (4.4.0)\n",
      "Requirement already satisfied: wheel in /home/kaitlin/repos/NeurOps/pytorch/venv/lib/python3.10/site-packages (from nvidia-cublas-cu11==11.10.3.66->torch->-r ../requirements.txt (line 2)) (0.38.4)\n",
      "Requirement already satisfied: setuptools in /home/kaitlin/repos/NeurOps/pytorch/venv/lib/python3.10/site-packages (from nvidia-cublas-cu11==11.10.3.66->torch->-r ../requirements.txt (line 2)) (63.2.0)\n",
      "Requirement already satisfied: requests in /home/kaitlin/repos/NeurOps/pytorch/venv/lib/python3.10/site-packages (from torchvision->-r ../requirements.txt (line 3)) (2.28.1)\n",
      "Collecting torch\n",
      "  Using cached torch-1.13.1-cp310-cp310-manylinux1_x86_64.whl (887.5 MB)\n",
      "Collecting pillow!=8.3.*,>=5.3.0\n",
      "  Using cached Pillow-9.4.0-cp310-cp310-manylinux_2_28_x86_64.whl (3.4 MB)\n",
      "Requirement already satisfied: pyyaml>=5.1 in /home/kaitlin/repos/NeurOps/pytorch/venv/lib/python3.10/site-packages (from transformers->-r ../requirements.txt (line 4)) (6.0)\n",
      "Requirement already satisfied: regex!=2019.12.17 in /home/kaitlin/repos/NeurOps/pytorch/venv/lib/python3.10/site-packages (from transformers->-r ../requirements.txt (line 4)) (2022.10.31)\n",
      "Requirement already satisfied: tqdm>=4.27 in /home/kaitlin/repos/NeurOps/pytorch/venv/lib/python3.10/site-packages (from transformers->-r ../requirements.txt (line 4)) (4.64.1)\n",
      "Requirement already satisfied: filelock in /home/kaitlin/repos/NeurOps/pytorch/venv/lib/python3.10/site-packages (from transformers->-r ../requirements.txt (line 4)) (3.8.2)\n",
      "Requirement already satisfied: packaging>=20.0 in /home/kaitlin/repos/NeurOps/pytorch/venv/lib/python3.10/site-packages (from transformers->-r ../requirements.txt (line 4)) (22.0)\n",
      "Requirement already satisfied: huggingface-hub<1.0,>=0.10.0 in /home/kaitlin/repos/NeurOps/pytorch/venv/lib/python3.10/site-packages (from transformers->-r ../requirements.txt (line 4)) (0.11.1)\n",
      "Requirement already satisfied: tokenizers!=0.11.3,<0.14,>=0.11.1 in /home/kaitlin/repos/NeurOps/pytorch/venv/lib/python3.10/site-packages (from transformers->-r ../requirements.txt (line 4)) (0.13.2)\n",
      "Requirement already satisfied: charset-normalizer<3,>=2 in /home/kaitlin/repos/NeurOps/pytorch/venv/lib/python3.10/site-packages (from requests->torchvision->-r ../requirements.txt (line 3)) (2.1.1)\n",
      "Requirement already satisfied: idna<4,>=2.5 in /home/kaitlin/repos/NeurOps/pytorch/venv/lib/python3.10/site-packages (from requests->torchvision->-r ../requirements.txt (line 3)) (3.4)\n",
      "Requirement already satisfied: urllib3<1.27,>=1.21.1 in /home/kaitlin/repos/NeurOps/pytorch/venv/lib/python3.10/site-packages (from requests->torchvision->-r ../requirements.txt (line 3)) (1.26.13)\n",
      "Requirement already satisfied: certifi>=2017.4.17 in /home/kaitlin/repos/NeurOps/pytorch/venv/lib/python3.10/site-packages (from requests->torchvision->-r ../requirements.txt (line 3)) (2022.12.7)\n",
      "Installing collected packages: pillow, torch, torchvision\n",
      "  Attempting uninstall: torch\n",
      "    Found existing installation: torch 1.13.0\n",
      "    Uninstalling torch-1.13.0:\n",
      "      Successfully uninstalled torch-1.13.0\n",
      "Successfully installed pillow-9.4.0 torch-1.13.1 torchvision-0.14.1\n",
      "\n",
      "\u001b[1m[\u001b[0m\u001b[34;49mnotice\u001b[0m\u001b[1;39;49m]\u001b[0m\u001b[39;49m A new release of pip available: \u001b[0m\u001b[31;49m22.2.2\u001b[0m\u001b[39;49m -> \u001b[0m\u001b[32;49m22.3.1\u001b[0m\n",
      "\u001b[1m[\u001b[0m\u001b[34;49mnotice\u001b[0m\u001b[1;39;49m]\u001b[0m\u001b[39;49m To update, run: \u001b[0m\u001b[32;49mpip install --upgrade pip\u001b[0m\n"
     ]
    }
   ],
   "source": [
    "! pip install -r ../requirements.txt"
   ]
  },
  {
   "cell_type": "code",
   "execution_count": 2,
   "metadata": {},
   "outputs": [
    {
     "ename": "ModuleNotFoundError",
     "evalue": "No module named 'torchvision'",
     "output_type": "error",
     "traceback": [
      "\u001b[0;31m---------------------------------------------------------------------------\u001b[0m",
      "\u001b[0;31mModuleNotFoundError\u001b[0m                       Traceback (most recent call last)",
      "Cell \u001b[0;32mIn[2], line 10\u001b[0m\n\u001b[1;32m      7\u001b[0m \u001b[39mfrom\u001b[39;00m \u001b[39mneurops\u001b[39;00m \u001b[39mimport\u001b[39;00m \u001b[39m*\u001b[39m\n\u001b[1;32m      9\u001b[0m \u001b[39m#sys.path.append(os.path.expanduser(\"~/repos/GrowAndPrune\"))\u001b[39;00m\n\u001b[0;32m---> 10\u001b[0m \u001b[39mimport\u001b[39;00m \u001b[39msrc\u001b[39;00m\n\u001b[1;32m     11\u001b[0m \u001b[39mfrom\u001b[39;00m \u001b[39m.\u001b[39;00m\u001b[39m.\u001b[39;00m\u001b[39msrc\u001b[39;00m \u001b[39mimport\u001b[39;00m \u001b[39m*\u001b[39m\n\u001b[1;32m     13\u001b[0m \u001b[39mprint\u001b[39m(\u001b[39mdir\u001b[39m(src))\n",
      "File \u001b[0;32m~/repos/GrowAndPrune/src/__init__.py:1\u001b[0m\n\u001b[0;32m----> 1\u001b[0m \u001b[39mfrom\u001b[39;00m \u001b[39m.\u001b[39;00m\u001b[39mgrowprune\u001b[39;00m \u001b[39mimport\u001b[39;00m utilities\n\u001b[1;32m      3\u001b[0m \u001b[39mfrom\u001b[39;00m \u001b[39mgrowprune\u001b[39;00m\u001b[39m.\u001b[39;00m\u001b[39mutilities\u001b[39;00m \u001b[39mimport\u001b[39;00m \u001b[39m*\u001b[39m\n",
      "File \u001b[0;32m~/repos/GrowAndPrune/src/growprune/__init__.py:1\u001b[0m\n\u001b[0;32m----> 1\u001b[0m \u001b[39mfrom\u001b[39;00m \u001b[39m.\u001b[39;00m \u001b[39mimport\u001b[39;00m utilities\n\u001b[1;32m      3\u001b[0m \u001b[39mfrom\u001b[39;00m \u001b[39mutilities\u001b[39;00m \u001b[39mimport\u001b[39;00m \u001b[39m*\u001b[39m\n",
      "File \u001b[0;32m~/repos/GrowAndPrune/src/growprune/utilities.py:2\u001b[0m\n\u001b[1;32m      1\u001b[0m \u001b[39mimport\u001b[39;00m \u001b[39mtorch\u001b[39;00m\n\u001b[0;32m----> 2\u001b[0m \u001b[39mfrom\u001b[39;00m \u001b[39mtorchvision\u001b[39;00m \u001b[39mimport\u001b[39;00m datasets, transforms\n\u001b[1;32m      4\u001b[0m \u001b[39mdef\u001b[39;00m \u001b[39mtrain\u001b[39m(model, train_loader, optimizer, criterion, epochs\u001b[39m=\u001b[39m\u001b[39m10\u001b[39m, val_loader\u001b[39m=\u001b[39m\u001b[39mNone\u001b[39;00m, verbose\u001b[39m=\u001b[39m\u001b[39mTrue\u001b[39;00m):\n\u001b[1;32m      5\u001b[0m     model\u001b[39m.\u001b[39mtrain()\n",
      "\u001b[0;31mModuleNotFoundError\u001b[0m: No module named 'torchvision'"
     ]
    }
   ],
   "source": [
    "import numpy as np\n",
    "import torch\n",
    "\n",
    "import sys\n",
    "import os\n",
    "sys.path.append(os.path.expanduser(\"~/repos/NeurOps/pytorch\"))\n",
    "from neurops import *\n",
    "\n",
    "import growprune\n",
    "\n",
    "print(dir(growprune))\n",
    "\n",
    "device = torch.device(\"cuda\" if torch.cuda.is_available() else \"cpu\")"
   ]
  },
  {
   "cell_type": "code",
   "execution_count": 13,
   "metadata": {},
   "outputs": [
    {
     "ename": "NameError",
     "evalue": "name 'split_dataset' is not defined",
     "output_type": "error",
     "traceback": [
      "\u001b[0;31m---------------------------------------------------------------------------\u001b[0m",
      "\u001b[0;31mNameError\u001b[0m                                 Traceback (most recent call last)",
      "Cell \u001b[0;32mIn[13], line 1\u001b[0m\n\u001b[0;32m----> 1\u001b[0m train_loader, val_loader, test_loader \u001b[39m=\u001b[39m split_dataset(ToyData(\u001b[39m64\u001b[39m, \u001b[39m32\u001b[39m, \u001b[39m5000\u001b[39m), val_size \u001b[39m=\u001b[39m \u001b[39m0.1\u001b[39m, test_size \u001b[39m=\u001b[39m \u001b[39m0.1\u001b[39m, batch_size \u001b[39m=\u001b[39m \u001b[39m128\u001b[39m)\n",
      "\u001b[0;31mNameError\u001b[0m: name 'split_dataset' is not defined"
     ]
    }
   ],
   "source": [
    "train_loader, val_loader, test_loader = split_dataset(ToyData(64, 32, 5000), val_size = 0.1, test_size = 0.1, batch_size = 128)"
   ]
  },
  {
   "cell_type": "code",
   "execution_count": null,
   "metadata": {},
   "outputs": [],
   "source": []
  }
 ],
 "metadata": {
  "kernelspec": {
   "display_name": "venv",
   "language": "python",
   "name": "python3"
  },
  "language_info": {
   "codemirror_mode": {
    "name": "ipython",
    "version": 3
   },
   "file_extension": ".py",
   "mimetype": "text/x-python",
   "name": "python",
   "nbconvert_exporter": "python",
   "pygments_lexer": "ipython3",
   "version": "3.10.9"
  },
  "orig_nbformat": 4,
  "vscode": {
   "interpreter": {
    "hash": "17b88845c8368f4e9bf0ab0c6bd871dae3b65fc6e015c8990d2b5b0cf4897a6f"
   }
  }
 },
 "nbformat": 4,
 "nbformat_minor": 2
}
