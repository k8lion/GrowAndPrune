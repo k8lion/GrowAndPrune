{
 "cells": [
  {
   "cell_type": "markdown",
   "metadata": {
    "id": "lt0zLa_1Gf5_"
   },
   "source": [
    "\n",
    "# Local\n"
   ]
  },
  {
   "cell_type": "code",
   "execution_count": 2,
   "metadata": {
    "id": "kQvA8zzt-lWl"
   },
   "outputs": [],
   "source": [
    "! pip install --quiet -r ../requirements.txt\n",
    "\n",
    "import sys\n",
    "import os\n",
    "sys.path.append(os.path.expanduser(\"~/repos/NeurOps/pytorch\"))"
   ]
  },
  {
   "cell_type": "markdown",
   "metadata": {
    "id": "PwWhZkHUGbZw"
   },
   "source": [
    "# Colab\n"
   ]
  },
  {
   "cell_type": "code",
   "execution_count": 3,
   "metadata": {
    "colab": {
     "base_uri": "https://localhost:8080/"
    },
    "id": "gmkB9LAt-m_6",
    "outputId": "6866f729-d6a7-4938-d417-382fab648ff8"
   },
   "outputs": [],
   "source": [
    "# ! git clone https://github.com/SuReLI/NeurOps.git\n",
    "# ! git clone https://github.com/k8lion/GrowAndPrune.git\n",
    "# %cd GrowAndPrune/src\n",
    "# ! pip install --quiet -r ../requirements.txt\n",
    "\n",
    "# import sys\n",
    "# import os\n",
    "# sys.path.append(\"../../NeurOps/pytorch\")"
   ]
  },
  {
   "cell_type": "markdown",
   "metadata": {
    "id": "amnEvhqoGpB4"
   },
   "source": [
    "# Imports"
   ]
  },
  {
   "cell_type": "code",
   "execution_count": 14,
   "metadata": {
    "id": "K0AKgP15-lWr"
   },
   "outputs": [],
   "source": [
    "import numpy as np\n",
    "import torch\n",
    "import copy\n",
    "import math\n",
    "import matplotlib.pyplot as plt\n",
    "from celluloid import Camera\n",
    "from IPython.display import HTML\n",
    "from collections import OrderedDict\n",
    "\n",
    "from neurops import *\n",
    "\n",
    "from growprune import *\n",
    "\n",
    "device = torch.device(\"cuda\" if torch.cuda.is_available() else \"cpu\")"
   ]
  },
  {
   "cell_type": "code",
   "execution_count": 1,
   "metadata": {},
   "outputs": [
    {
     "name": "stdout",
     "output_type": "stream",
     "text": [
      "--2023-02-06 15:26:35--  https://download.pytorch.org/models/vgg11-8a719046.pth\n",
      "Resolving download.pytorch.org (download.pytorch.org)... 18.66.196.80, 18.66.196.101, 18.66.196.22, ...\n",
      "Connecting to download.pytorch.org (download.pytorch.org)|18.66.196.80|:443... connected.\n",
      "HTTP request sent, awaiting response... 200 OK\n",
      "Length: 531460341 (507M) [binary/octet-stream]\n",
      "Saving to: ‘vgg11-8a719046.pth’\n",
      "\n",
      "vgg11-8a719046.pth  100%[===================>] 506.84M  5.43MB/s    in 3m 11s  \n",
      "\n",
      "2023-02-06 15:29:46 (2.66 MB/s) - ‘vgg11-8a719046.pth’ saved [531460341/531460341]\n",
      "\n",
      "--2023-02-06 15:29:46--  http://../data/vgg11-8a719046.pth\n",
      "Resolving .. (..)... failed: nodename nor servname provided, or not known.\n",
      "wget: unable to resolve host address ‘..’\n",
      "FINISHED --2023-02-06 15:29:46--\n",
      "Total wall clock time: 3m 11s\n",
      "Downloaded: 1 files, 507M in 3m 11s (2.66 MB/s)\n"
     ]
    }
   ],
   "source": [
    "# !wget -O ../../data/vgg11-8a719046.pth https://download.pytorch.org/models/vgg11-8a719046.pth "
   ]
  },
  {
   "cell_type": "code",
   "execution_count": 29,
   "metadata": {},
   "outputs": [],
   "source": [
    "copy_linear = True\n",
    "limit = 15 if not copy_linear else 19\n",
    "model = ModVGG11(num_classes=10, avgpooldim=7).to(device)\n",
    "weights = torch.load(\"../../data/vgg11-8a719046.pth\")\n",
    "renamed = OrderedDict()\n",
    "for i, (key, value) in enumerate(zip(model.state_dict(), weights.values())):\n",
    "    if i <= limit:\n",
    "        renamed[key] = value\n",
    "    else:\n",
    "        renamed[key] = model.state_dict()[key]\n",
    "model.load_state_dict(renamed)\n",
    "optimizer = torch.optim.Adam(model.parameters(), lr=1e-4)\n",
    "criterion = torch.nn.CrossEntropyLoss()"
   ]
  },
  {
   "cell_type": "code",
   "execution_count": 26,
   "metadata": {},
   "outputs": [
    {
     "name": "stdout",
     "output_type": "stream",
     "text": [
      "True True\n"
     ]
    }
   ],
   "source": [
    "train_loader, validation_loader, test_loader = get_galaxy10_dataloaders(path_to_dir=\"../..\", batch_size=-1, dim=224)"
   ]
  },
  {
   "cell_type": "code",
   "execution_count": 19,
   "metadata": {},
   "outputs": [
    {
     "name": "stdout",
     "output_type": "stream",
     "text": [
      "torch.Size([1, 64, 32, 32])\n",
      "torch.Size([1, 128, 16, 16])\n",
      "torch.Size([1, 256, 16, 16])\n",
      "torch.Size([1, 256, 8, 8])\n",
      "torch.Size([1, 512, 8, 8])\n",
      "torch.Size([1, 512, 4, 4])\n",
      "torch.Size([1, 512, 4, 4])\n",
      "torch.Size([1, 512, 1, 1])\n",
      "torch.Size([1, 4096])\n",
      "torch.Size([1, 4096])\n",
      "torch.Size([1, 10])\n"
     ]
    }
   ],
   "source": [
    "# test = torch.randn(1, 3, 64, 64).to(device)\n",
    "# for layer in model:\n",
    "#     test = layer(test)\n",
    "#     print(test.shape)"
   ]
  },
  {
   "cell_type": "code",
   "execution_count": 33,
   "metadata": {},
   "outputs": [
    {
     "name": "stdout",
     "output_type": "stream",
     "text": [
      "Train Epoch: 0 [0/15963 (0%)]\tLoss: 0.815988\n",
      "Train Epoch: 0 [3200/15963 (22%)]\tLoss: 0.958542\n",
      "Train Epoch: 0 [6400/15963 (45%)]\tLoss: 0.934718\n",
      "Train Epoch: 0 [9600/15963 (67%)]\tLoss: 1.289894\n",
      "Train Epoch: 0 [12800/15963 (89%)]\tLoss: 0.643783\n",
      "Validation: Average loss: 0.0030, Accuracy: 1110/15963 (6.95%)\n"
     ]
    },
    {
     "data": {
      "text/plain": [
       "([0.002968141285539577], [0.06953580154106372], None)"
      ]
     },
     "execution_count": 33,
     "metadata": {},
     "output_type": "execute_result"
    }
   ],
   "source": [
    "train(model, train_loader, optimizer, criterion, epochs=10, val_loader=validation_loader, device=device, verbose=True)"
   ]
  }
 ],
 "metadata": {
  "kernelspec": {
   "display_name": "venv",
   "language": "python",
   "name": "python3"
  },
  "language_info": {
   "codemirror_mode": {
    "name": "ipython",
    "version": 3
   },
   "file_extension": ".py",
   "mimetype": "text/x-python",
   "name": "python",
   "nbconvert_exporter": "python",
   "pygments_lexer": "ipython3",
   "version": "3.10.4"
  },
  "orig_nbformat": 4,
  "vscode": {
   "interpreter": {
    "hash": "564b7e03f0da97ad98fdfbf7d8457509018d826b9748a98972bf2fd4b648b5e6"
   }
  }
 },
 "nbformat": 4,
 "nbformat_minor": 2
}
