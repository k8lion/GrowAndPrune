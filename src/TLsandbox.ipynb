{
 "cells": [
  {
   "cell_type": "markdown",
   "metadata": {
    "id": "lt0zLa_1Gf5_"
   },
   "source": [
    "\n",
    "# Local\n"
   ]
  },
  {
   "cell_type": "code",
   "execution_count": 1,
   "metadata": {
    "id": "kQvA8zzt-lWl"
   },
   "outputs": [
    {
     "name": "stdout",
     "output_type": "stream",
     "text": [
      "Requirement already satisfied: celluloid in /home/kaitlin/repos/GrowAndPrune/venv/lib/python3.10/site-packages (from -r ../requirements.txt (line 1)) (0.2.0)\n",
      "Requirement already satisfied: matplotlib in /home/kaitlin/repos/GrowAndPrune/venv/lib/python3.10/site-packages (from -r ../requirements.txt (line 2)) (3.6.3)\n",
      "Requirement already satisfied: numpy in /home/kaitlin/repos/GrowAndPrune/venv/lib/python3.10/site-packages (from -r ../requirements.txt (line 3)) (1.24.1)\n",
      "Requirement already satisfied: torch in /home/kaitlin/repos/GrowAndPrune/venv/lib/python3.10/site-packages (from -r ../requirements.txt (line 4)) (1.13.1)\n",
      "Requirement already satisfied: torchvision in /home/kaitlin/repos/GrowAndPrune/venv/lib/python3.10/site-packages (from -r ../requirements.txt (line 5)) (0.14.1)\n",
      "Requirement already satisfied: transformers in /home/kaitlin/repos/GrowAndPrune/venv/lib/python3.10/site-packages (from -r ../requirements.txt (line 6)) (4.26.0)\n",
      "Requirement already satisfied: contourpy>=1.0.1 in /home/kaitlin/repos/GrowAndPrune/venv/lib/python3.10/site-packages (from matplotlib->-r ../requirements.txt (line 2)) (1.0.7)\n",
      "Requirement already satisfied: fonttools>=4.22.0 in /home/kaitlin/repos/GrowAndPrune/venv/lib/python3.10/site-packages (from matplotlib->-r ../requirements.txt (line 2)) (4.38.0)\n",
      "Requirement already satisfied: cycler>=0.10 in /home/kaitlin/repos/GrowAndPrune/venv/lib/python3.10/site-packages (from matplotlib->-r ../requirements.txt (line 2)) (0.11.0)\n",
      "Requirement already satisfied: pillow>=6.2.0 in /home/kaitlin/repos/GrowAndPrune/venv/lib/python3.10/site-packages (from matplotlib->-r ../requirements.txt (line 2)) (9.4.0)\n",
      "Requirement already satisfied: packaging>=20.0 in /home/kaitlin/repos/GrowAndPrune/venv/lib/python3.10/site-packages (from matplotlib->-r ../requirements.txt (line 2)) (23.0)\n",
      "Requirement already satisfied: pyparsing>=2.2.1 in /home/kaitlin/repos/GrowAndPrune/venv/lib/python3.10/site-packages (from matplotlib->-r ../requirements.txt (line 2)) (3.0.9)\n",
      "Requirement already satisfied: python-dateutil>=2.7 in /home/kaitlin/repos/GrowAndPrune/venv/lib/python3.10/site-packages (from matplotlib->-r ../requirements.txt (line 2)) (2.8.2)\n",
      "Requirement already satisfied: kiwisolver>=1.0.1 in /home/kaitlin/repos/GrowAndPrune/venv/lib/python3.10/site-packages (from matplotlib->-r ../requirements.txt (line 2)) (1.4.4)\n",
      "Requirement already satisfied: nvidia-cuda-nvrtc-cu11==11.7.99 in /home/kaitlin/repos/GrowAndPrune/venv/lib/python3.10/site-packages (from torch->-r ../requirements.txt (line 4)) (11.7.99)\n",
      "Requirement already satisfied: typing-extensions in /home/kaitlin/repos/GrowAndPrune/venv/lib/python3.10/site-packages (from torch->-r ../requirements.txt (line 4)) (4.4.0)\n",
      "Requirement already satisfied: nvidia-cublas-cu11==11.10.3.66 in /home/kaitlin/repos/GrowAndPrune/venv/lib/python3.10/site-packages (from torch->-r ../requirements.txt (line 4)) (11.10.3.66)\n",
      "Requirement already satisfied: nvidia-cudnn-cu11==8.5.0.96 in /home/kaitlin/repos/GrowAndPrune/venv/lib/python3.10/site-packages (from torch->-r ../requirements.txt (line 4)) (8.5.0.96)\n",
      "Requirement already satisfied: nvidia-cuda-runtime-cu11==11.7.99 in /home/kaitlin/repos/GrowAndPrune/venv/lib/python3.10/site-packages (from torch->-r ../requirements.txt (line 4)) (11.7.99)\n",
      "Requirement already satisfied: wheel in /home/kaitlin/repos/GrowAndPrune/venv/lib/python3.10/site-packages (from nvidia-cublas-cu11==11.10.3.66->torch->-r ../requirements.txt (line 4)) (0.38.4)\n",
      "Requirement already satisfied: setuptools in /home/kaitlin/repos/GrowAndPrune/venv/lib/python3.10/site-packages (from nvidia-cublas-cu11==11.10.3.66->torch->-r ../requirements.txt (line 4)) (65.5.0)\n",
      "Requirement already satisfied: requests in /home/kaitlin/repos/GrowAndPrune/venv/lib/python3.10/site-packages (from torchvision->-r ../requirements.txt (line 5)) (2.28.2)\n",
      "Requirement already satisfied: filelock in /home/kaitlin/repos/GrowAndPrune/venv/lib/python3.10/site-packages (from transformers->-r ../requirements.txt (line 6)) (3.9.0)\n",
      "Requirement already satisfied: tqdm>=4.27 in /home/kaitlin/repos/GrowAndPrune/venv/lib/python3.10/site-packages (from transformers->-r ../requirements.txt (line 6)) (4.64.1)\n",
      "Requirement already satisfied: tokenizers!=0.11.3,<0.14,>=0.11.1 in /home/kaitlin/repos/GrowAndPrune/venv/lib/python3.10/site-packages (from transformers->-r ../requirements.txt (line 6)) (0.13.2)\n",
      "Requirement already satisfied: regex!=2019.12.17 in /home/kaitlin/repos/GrowAndPrune/venv/lib/python3.10/site-packages (from transformers->-r ../requirements.txt (line 6)) (2022.10.31)\n",
      "Requirement already satisfied: huggingface-hub<1.0,>=0.11.0 in /home/kaitlin/repos/GrowAndPrune/venv/lib/python3.10/site-packages (from transformers->-r ../requirements.txt (line 6)) (0.12.0)\n",
      "Requirement already satisfied: pyyaml>=5.1 in /home/kaitlin/repos/GrowAndPrune/venv/lib/python3.10/site-packages (from transformers->-r ../requirements.txt (line 6)) (6.0)\n",
      "Requirement already satisfied: six>=1.5 in /home/kaitlin/repos/GrowAndPrune/venv/lib/python3.10/site-packages (from python-dateutil>=2.7->matplotlib->-r ../requirements.txt (line 2)) (1.16.0)\n",
      "Requirement already satisfied: charset-normalizer<4,>=2 in /home/kaitlin/repos/GrowAndPrune/venv/lib/python3.10/site-packages (from requests->torchvision->-r ../requirements.txt (line 5)) (3.0.1)\n",
      "Requirement already satisfied: idna<4,>=2.5 in /home/kaitlin/repos/GrowAndPrune/venv/lib/python3.10/site-packages (from requests->torchvision->-r ../requirements.txt (line 5)) (3.4)\n",
      "Requirement already satisfied: urllib3<1.27,>=1.21.1 in /home/kaitlin/repos/GrowAndPrune/venv/lib/python3.10/site-packages (from requests->torchvision->-r ../requirements.txt (line 5)) (1.26.14)\n",
      "Requirement already satisfied: certifi>=2017.4.17 in /home/kaitlin/repos/GrowAndPrune/venv/lib/python3.10/site-packages (from requests->torchvision->-r ../requirements.txt (line 5)) (2022.12.7)\n",
      "\n",
      "\u001b[1m[\u001b[0m\u001b[34;49mnotice\u001b[0m\u001b[1;39;49m]\u001b[0m\u001b[39;49m A new release of pip available: \u001b[0m\u001b[31;49m22.3.1\u001b[0m\u001b[39;49m -> \u001b[0m\u001b[32;49m23.0\u001b[0m\n",
      "\u001b[1m[\u001b[0m\u001b[34;49mnotice\u001b[0m\u001b[1;39;49m]\u001b[0m\u001b[39;49m To update, run: \u001b[0m\u001b[32;49mpip install --upgrade pip\u001b[0m\n"
     ]
    }
   ],
   "source": [
    "! pip install -r ../requirements.txt\n",
    "\n",
    "import sys\n",
    "import os\n",
    "sys.path.append(os.path.expanduser(\"~/repos/NeurOps/pytorch\"))"
   ]
  },
  {
   "cell_type": "markdown",
   "metadata": {
    "id": "PwWhZkHUGbZw"
   },
   "source": [
    "# Colab\n"
   ]
  },
  {
   "cell_type": "code",
   "execution_count": null,
   "metadata": {
    "colab": {
     "base_uri": "https://localhost:8080/"
    },
    "id": "gmkB9LAt-m_6",
    "outputId": "6866f729-d6a7-4938-d417-382fab648ff8"
   },
   "outputs": [
    {
     "name": "stdout",
     "output_type": "stream",
     "text": [
      "Cloning into 'NeurOps'...\n",
      "remote: Enumerating objects: 517, done.\u001b[K\n",
      "remote: Counting objects: 100% (517/517), done.\u001b[K\n",
      "remote: Compressing objects: 100% (311/311), done.\u001b[K\n",
      "remote: Total 517 (delta 276), reused 413 (delta 192), pack-reused 0\u001b[K\n",
      "Receiving objects: 100% (517/517), 261.02 KiB | 13.74 MiB/s, done.\n",
      "Resolving deltas: 100% (276/276), done.\n",
      "Cloning into 'GrowAndPrune'...\n",
      "remote: Enumerating objects: 90, done.\u001b[K\n",
      "remote: Counting objects: 100% (90/90), done.\u001b[K\n",
      "remote: Compressing objects: 100% (59/59), done.\u001b[K\n",
      "remote: Total 90 (delta 36), reused 69 (delta 21), pack-reused 0\u001b[K\n",
      "Unpacking objects: 100% (90/90), 9.49 MiB | 5.71 MiB/s, done.\n",
      "/content/GrowAndPrune/src\n",
      "\u001b[2K     \u001b[90m━━━━━━━━━━━━━━━━━━━━━━━━━━━━━━━━━━━━━━━━\u001b[0m \u001b[32m6.3/6.3 MB\u001b[0m \u001b[31m12.8 MB/s\u001b[0m eta \u001b[36m0:00:00\u001b[0m\n",
      "\u001b[2K     \u001b[90m━━━━━━━━━━━━━━━━━━━━━━━━━━━━━━━━━━━━━━━━\u001b[0m \u001b[32m7.6/7.6 MB\u001b[0m \u001b[31m45.8 MB/s\u001b[0m eta \u001b[36m0:00:00\u001b[0m\n",
      "\u001b[2K     \u001b[90m━━━━━━━━━━━━━━━━━━━━━━━━━━━━━━━━━━━━━━\u001b[0m \u001b[32m190.3/190.3 KB\u001b[0m \u001b[31m18.9 MB/s\u001b[0m eta \u001b[36m0:00:00\u001b[0m\n",
      "\u001b[?25h"
     ]
    }
   ],
   "source": [
    "! git clone https://github.com/SuReLI/NeurOps.git\n",
    "! git clone https://github.com/k8lion/GrowAndPrune.git\n",
    "%cd GrowAndPrune/src\n",
    "! pip install --quiet -r ../requirements.txt\n",
    "\n",
    "import sys\n",
    "import os\n",
    "sys.path.append(\"../../NeurOps/pytorch\")"
   ]
  },
  {
   "cell_type": "markdown",
   "metadata": {
    "id": "amnEvhqoGpB4"
   },
   "source": [
    "# Imports"
   ]
  },
  {
   "cell_type": "code",
   "execution_count": 2,
   "metadata": {
    "id": "K0AKgP15-lWr"
   },
   "outputs": [
    {
     "name": "stderr",
     "output_type": "stream",
     "text": [
      "/home/kaitlin/repos/GrowAndPrune/venv/lib/python3.10/site-packages/tqdm/auto.py:22: TqdmWarning: IProgress not found. Please update jupyter and ipywidgets. See https://ipywidgets.readthedocs.io/en/stable/user_install.html\n",
      "  from .autonotebook import tqdm as notebook_tqdm\n",
      "/home/kaitlin/repos/GrowAndPrune/venv/lib/python3.10/site-packages/torch/cuda/__init__.py:88: UserWarning: CUDA initialization: CUDA unknown error - this may be due to an incorrectly set up environment, e.g. changing env variable CUDA_VISIBLE_DEVICES after program start. Setting the available devices to be zero. (Triggered internally at ../c10/cuda/CUDAFunctions.cpp:109.)\n",
      "  return torch._C._cuda_getDeviceCount() > 0\n"
     ]
    }
   ],
   "source": [
    "import numpy as np\n",
    "import torch\n",
    "import copy\n",
    "import math\n",
    "import matplotlib.pyplot as plt\n",
    "from celluloid import Camera\n",
    "from IPython.display import HTML\n",
    "\n",
    "\n",
    "from neurops import *\n",
    "\n",
    "from growprune import *\n",
    "\n",
    "device = torch.device(\"cuda\" if torch.cuda.is_available() else \"cpu\")"
   ]
  },
  {
   "cell_type": "code",
   "execution_count": 14,
   "metadata": {},
   "outputs": [],
   "source": [
    "data = TransferToyData()\n",
    "train_loader, val_loader, test_loader = split_dataset(data, val_size=0.1, test_size=0.1, batch_size=32)"
   ]
  },
  {
   "cell_type": "code",
   "execution_count": 15,
   "metadata": {},
   "outputs": [],
   "source": [
    "model = ModMLP(2,2,1).to(device)\n",
    "optimizer = torch.optim.Adam(model.parameters(), lr=3e-4)\n",
    "criterion = torch.nn.BCEWithLogitsLoss()"
   ]
  },
  {
   "cell_type": "code",
   "execution_count": 19,
   "metadata": {},
   "outputs": [
    {
     "name": "stdout",
     "output_type": "stream",
     "text": [
      "Average loss: 0.0031, Accuracy: 100/100 (100.00%)\n"
     ]
    },
    {
     "ename": "KeyboardInterrupt",
     "evalue": "",
     "output_type": "error",
     "traceback": [
      "\u001b[0;31m---------------------------------------------------------------------------\u001b[0m",
      "\u001b[0;31mKeyboardInterrupt\u001b[0m                         Traceback (most recent call last)",
      "Cell \u001b[0;32mIn[19], line 2\u001b[0m\n\u001b[1;32m      1\u001b[0m \u001b[39mfor\u001b[39;00m _ \u001b[39min\u001b[39;00m \u001b[39mrange\u001b[39m(\u001b[39m10\u001b[39m):\n\u001b[0;32m----> 2\u001b[0m     _,_,_ \u001b[39m=\u001b[39m train(model, train_loader, optimizer, criterion, epochs\u001b[39m=\u001b[39;49m\u001b[39m100\u001b[39;49m, val_loader\u001b[39m=\u001b[39;49mval_loader, device\u001b[39m=\u001b[39;49mdevice, verbose\u001b[39m=\u001b[39;49m\u001b[39mFalse\u001b[39;49;00m, val_verbose\u001b[39m=\u001b[39;49m\u001b[39mFalse\u001b[39;49;00m, val_acts\u001b[39m=\u001b[39;49m\u001b[39mTrue\u001b[39;49;00m)\n\u001b[1;32m      3\u001b[0m     test(model, val_loader, criterion, device\u001b[39m=\u001b[39mdevice, verbose\u001b[39m=\u001b[39m\u001b[39mTrue\u001b[39;00m)\n",
      "File \u001b[0;32m~/repos/GrowAndPrune/src/growprune/utilities.py:25\u001b[0m, in \u001b[0;36mtrain\u001b[0;34m(model, train_loader, optimizer, criterion, epochs, val_loader, verbose, val_verbose, device, regression, val_acts)\u001b[0m\n\u001b[1;32m     23\u001b[0m loss \u001b[39m=\u001b[39m criterion(output, target)\n\u001b[1;32m     24\u001b[0m loss\u001b[39m.\u001b[39mbackward()\n\u001b[0;32m---> 25\u001b[0m optimizer\u001b[39m.\u001b[39;49mstep()\n\u001b[1;32m     26\u001b[0m \u001b[39mif\u001b[39;00m batch_idx \u001b[39m%\u001b[39m \u001b[39m100\u001b[39m \u001b[39m==\u001b[39m \u001b[39m0\u001b[39m \u001b[39mand\u001b[39;00m verbose:\n\u001b[1;32m     27\u001b[0m     \u001b[39mprint\u001b[39m(\u001b[39m'\u001b[39m\u001b[39mTrain Epoch: \u001b[39m\u001b[39m{}\u001b[39;00m\u001b[39m [\u001b[39m\u001b[39m{}\u001b[39;00m\u001b[39m/\u001b[39m\u001b[39m{}\u001b[39;00m\u001b[39m (\u001b[39m\u001b[39m{:.0f}\u001b[39;00m\u001b[39m%\u001b[39m\u001b[39m)]\u001b[39m\u001b[39m\\t\u001b[39;00m\u001b[39mLoss: \u001b[39m\u001b[39m{:.6f}\u001b[39;00m\u001b[39m'\u001b[39m\u001b[39m.\u001b[39mformat(\n\u001b[1;32m     28\u001b[0m         epoch, batch_idx \u001b[39m*\u001b[39m \u001b[39mlen\u001b[39m(data), \u001b[39mlen\u001b[39m(train_loader\u001b[39m.\u001b[39mdataset),\n\u001b[1;32m     29\u001b[0m         \u001b[39m100.\u001b[39m \u001b[39m*\u001b[39m batch_idx \u001b[39m/\u001b[39m \u001b[39mlen\u001b[39m(train_loader), loss\u001b[39m.\u001b[39mitem()))\n",
      "File \u001b[0;32m~/repos/GrowAndPrune/venv/lib/python3.10/site-packages/torch/optim/optimizer.py:140\u001b[0m, in \u001b[0;36mOptimizer._hook_for_profile.<locals>.profile_hook_step.<locals>.wrapper\u001b[0;34m(*args, **kwargs)\u001b[0m\n\u001b[1;32m    138\u001b[0m profile_name \u001b[39m=\u001b[39m \u001b[39m\"\u001b[39m\u001b[39mOptimizer.step#\u001b[39m\u001b[39m{}\u001b[39;00m\u001b[39m.step\u001b[39m\u001b[39m\"\u001b[39m\u001b[39m.\u001b[39mformat(obj\u001b[39m.\u001b[39m\u001b[39m__class__\u001b[39m\u001b[39m.\u001b[39m\u001b[39m__name__\u001b[39m)\n\u001b[1;32m    139\u001b[0m \u001b[39mwith\u001b[39;00m torch\u001b[39m.\u001b[39mautograd\u001b[39m.\u001b[39mprofiler\u001b[39m.\u001b[39mrecord_function(profile_name):\n\u001b[0;32m--> 140\u001b[0m     out \u001b[39m=\u001b[39m func(\u001b[39m*\u001b[39;49margs, \u001b[39m*\u001b[39;49m\u001b[39m*\u001b[39;49mkwargs)\n\u001b[1;32m    141\u001b[0m     obj\u001b[39m.\u001b[39m_optimizer_step_code()\n\u001b[1;32m    142\u001b[0m     \u001b[39mreturn\u001b[39;00m out\n",
      "File \u001b[0;32m~/repos/GrowAndPrune/venv/lib/python3.10/site-packages/torch/optim/optimizer.py:23\u001b[0m, in \u001b[0;36m_use_grad_for_differentiable.<locals>._use_grad\u001b[0;34m(self, *args, **kwargs)\u001b[0m\n\u001b[1;32m     21\u001b[0m \u001b[39mtry\u001b[39;00m:\n\u001b[1;32m     22\u001b[0m     torch\u001b[39m.\u001b[39mset_grad_enabled(\u001b[39mself\u001b[39m\u001b[39m.\u001b[39mdefaults[\u001b[39m'\u001b[39m\u001b[39mdifferentiable\u001b[39m\u001b[39m'\u001b[39m])\n\u001b[0;32m---> 23\u001b[0m     ret \u001b[39m=\u001b[39m func(\u001b[39mself\u001b[39;49m, \u001b[39m*\u001b[39;49margs, \u001b[39m*\u001b[39;49m\u001b[39m*\u001b[39;49mkwargs)\n\u001b[1;32m     24\u001b[0m \u001b[39mfinally\u001b[39;00m:\n\u001b[1;32m     25\u001b[0m     torch\u001b[39m.\u001b[39mset_grad_enabled(prev_grad)\n",
      "File \u001b[0;32m~/repos/GrowAndPrune/venv/lib/python3.10/site-packages/torch/optim/adam.py:234\u001b[0m, in \u001b[0;36mAdam.step\u001b[0;34m(self, closure, grad_scaler)\u001b[0m\n\u001b[1;32m    231\u001b[0m                 \u001b[39mraise\u001b[39;00m \u001b[39mRuntimeError\u001b[39;00m(\u001b[39m'\u001b[39m\u001b[39m`requires_grad` is not supported for `step` in differentiable mode\u001b[39m\u001b[39m'\u001b[39m)\n\u001b[1;32m    232\u001b[0m             state_steps\u001b[39m.\u001b[39mappend(state[\u001b[39m'\u001b[39m\u001b[39mstep\u001b[39m\u001b[39m'\u001b[39m])\n\u001b[0;32m--> 234\u001b[0m     adam(params_with_grad,\n\u001b[1;32m    235\u001b[0m          grads,\n\u001b[1;32m    236\u001b[0m          exp_avgs,\n\u001b[1;32m    237\u001b[0m          exp_avg_sqs,\n\u001b[1;32m    238\u001b[0m          max_exp_avg_sqs,\n\u001b[1;32m    239\u001b[0m          state_steps,\n\u001b[1;32m    240\u001b[0m          amsgrad\u001b[39m=\u001b[39;49mgroup[\u001b[39m'\u001b[39;49m\u001b[39mamsgrad\u001b[39;49m\u001b[39m'\u001b[39;49m],\n\u001b[1;32m    241\u001b[0m          beta1\u001b[39m=\u001b[39;49mbeta1,\n\u001b[1;32m    242\u001b[0m          beta2\u001b[39m=\u001b[39;49mbeta2,\n\u001b[1;32m    243\u001b[0m          lr\u001b[39m=\u001b[39;49mgroup[\u001b[39m'\u001b[39;49m\u001b[39mlr\u001b[39;49m\u001b[39m'\u001b[39;49m],\n\u001b[1;32m    244\u001b[0m          weight_decay\u001b[39m=\u001b[39;49mgroup[\u001b[39m'\u001b[39;49m\u001b[39mweight_decay\u001b[39;49m\u001b[39m'\u001b[39;49m],\n\u001b[1;32m    245\u001b[0m          eps\u001b[39m=\u001b[39;49mgroup[\u001b[39m'\u001b[39;49m\u001b[39meps\u001b[39;49m\u001b[39m'\u001b[39;49m],\n\u001b[1;32m    246\u001b[0m          maximize\u001b[39m=\u001b[39;49mgroup[\u001b[39m'\u001b[39;49m\u001b[39mmaximize\u001b[39;49m\u001b[39m'\u001b[39;49m],\n\u001b[1;32m    247\u001b[0m          foreach\u001b[39m=\u001b[39;49mgroup[\u001b[39m'\u001b[39;49m\u001b[39mforeach\u001b[39;49m\u001b[39m'\u001b[39;49m],\n\u001b[1;32m    248\u001b[0m          capturable\u001b[39m=\u001b[39;49mgroup[\u001b[39m'\u001b[39;49m\u001b[39mcapturable\u001b[39;49m\u001b[39m'\u001b[39;49m],\n\u001b[1;32m    249\u001b[0m          differentiable\u001b[39m=\u001b[39;49mgroup[\u001b[39m'\u001b[39;49m\u001b[39mdifferentiable\u001b[39;49m\u001b[39m'\u001b[39;49m],\n\u001b[1;32m    250\u001b[0m          fused\u001b[39m=\u001b[39;49mgroup[\u001b[39m'\u001b[39;49m\u001b[39mfused\u001b[39;49m\u001b[39m'\u001b[39;49m],\n\u001b[1;32m    251\u001b[0m          grad_scale\u001b[39m=\u001b[39;49mgrad_scale,\n\u001b[1;32m    252\u001b[0m          found_inf\u001b[39m=\u001b[39;49mfound_inf)\n\u001b[1;32m    254\u001b[0m \u001b[39mreturn\u001b[39;00m loss\n",
      "File \u001b[0;32m~/repos/GrowAndPrune/venv/lib/python3.10/site-packages/torch/optim/adam.py:283\u001b[0m, in \u001b[0;36madam\u001b[0;34m(params, grads, exp_avgs, exp_avg_sqs, max_exp_avg_sqs, state_steps, foreach, capturable, differentiable, fused, grad_scale, found_inf, amsgrad, beta1, beta2, lr, weight_decay, eps, maximize)\u001b[0m\n\u001b[1;32m    257\u001b[0m \u001b[39mdef\u001b[39;00m \u001b[39madam\u001b[39m(params: List[Tensor],\n\u001b[1;32m    258\u001b[0m          grads: List[Tensor],\n\u001b[1;32m    259\u001b[0m          exp_avgs: List[Tensor],\n\u001b[0;32m   (...)\u001b[0m\n\u001b[1;32m    277\u001b[0m          eps: \u001b[39mfloat\u001b[39m,\n\u001b[1;32m    278\u001b[0m          maximize: \u001b[39mbool\u001b[39m):\n\u001b[1;32m    279\u001b[0m \u001b[39m    \u001b[39m\u001b[39mr\u001b[39m\u001b[39m\"\"\"Functional API that performs Adam algorithm computation.\u001b[39;00m\n\u001b[1;32m    280\u001b[0m \u001b[39m    See :class:`~torch.optim.Adam` for details.\u001b[39;00m\n\u001b[1;32m    281\u001b[0m \u001b[39m    \"\"\"\u001b[39;00m\n\u001b[0;32m--> 283\u001b[0m     \u001b[39mif\u001b[39;00m \u001b[39mnot\u001b[39;00m \u001b[39mall\u001b[39;49m(\u001b[39misinstance\u001b[39;49m(t, torch\u001b[39m.\u001b[39;49mTensor) \u001b[39mfor\u001b[39;49;00m t \u001b[39min\u001b[39;49;00m state_steps):\n\u001b[1;32m    284\u001b[0m         \u001b[39mraise\u001b[39;00m \u001b[39mRuntimeError\u001b[39;00m(\u001b[39m\"\u001b[39m\u001b[39mAPI has changed, `state_steps` argument must contain a list of singleton tensors\u001b[39m\u001b[39m\"\u001b[39m)\n\u001b[1;32m    286\u001b[0m     \u001b[39mif\u001b[39;00m foreach \u001b[39mis\u001b[39;00m \u001b[39mNone\u001b[39;00m:\n\u001b[1;32m    287\u001b[0m         \u001b[39m# Placeholder for more complex foreach logic to be added when value is not set\u001b[39;00m\n",
      "\u001b[0;31mKeyboardInterrupt\u001b[0m: "
     ]
    }
   ],
   "source": [
    "for _ in range(10):\n",
    "    _,_,_ = train(model, train_loader, optimizer, criterion, epochs=100, val_loader=val_loader, device=device, verbose=False, val_verbose=False, val_acts=True)\n",
    "    test(model, val_loader, criterion, device=device, verbose=True)"
   ]
  },
  {
   "cell_type": "code",
   "execution_count": 21,
   "metadata": {},
   "outputs": [
    {
     "name": "stdout",
     "output_type": "stream",
     "text": [
      "Angle:  0 Average loss: 0.0025, Accuracy: 100/100 (100.00%)\n",
      "Angle:  5 Average loss: 0.0042, Accuracy: 100/100 (100.00%)\n",
      "Angle:  10 Average loss: 0.0018, Accuracy: 100/100 (100.00%)\n",
      "Angle:  15 Average loss: 0.0031, Accuracy: 99/100 (99.00%)\n",
      "Angle:  20 Average loss: 0.0031, Accuracy: 99/100 (99.00%)\n",
      "Angle:  25 Average loss: 0.0037, Accuracy: 100/100 (100.00%)\n",
      "Angle:  30 Average loss: 0.0033, Accuracy: 100/100 (100.00%)\n",
      "Angle:  35 Average loss: 0.0027, Accuracy: 100/100 (100.00%)\n",
      "Angle:  40 Average loss: 0.0033, Accuracy: 100/100 (100.00%)\n",
      "Angle:  45 Average loss: 0.0028, Accuracy: 100/100 (100.00%)\n",
      "Angle:  50 Average loss: 0.0049, Accuracy: 98/100 (98.00%)\n",
      "Angle:  55 Average loss: 0.0051, Accuracy: 99/100 (99.00%)\n",
      "Angle:  60 Average loss: 0.0066, Accuracy: 100/100 (100.00%)\n",
      "Angle:  65 Average loss: 0.0051, Accuracy: 100/100 (100.00%)\n",
      "Angle:  70 Average loss: 0.0066, Accuracy: 100/100 (100.00%)\n",
      "Angle:  75 Average loss: 0.0073, Accuracy: 100/100 (100.00%)\n",
      "Angle:  80 Average loss: 0.0115, Accuracy: 97/100 (97.00%)\n",
      "Angle:  85 Average loss: 0.0190, Accuracy: 98/100 (98.00%)\n",
      "Angle:  90 Average loss: 0.0307, Accuracy: 6/100 (6.00%)\n",
      "Angle:  95 Average loss: 0.0497, Accuracy: 3/100 (3.00%)\n",
      "Angle:  100 Average loss: 0.0739, Accuracy: 1/100 (1.00%)\n",
      "Angle:  105 Average loss: 0.0795, Accuracy: 2/100 (2.00%)\n",
      "Angle:  110 Average loss: 0.1109, Accuracy: 0/100 (0.00%)\n",
      "Angle:  115 Average loss: 0.1226, Accuracy: 0/100 (0.00%)\n",
      "Angle:  120 Average loss: 0.1328, Accuracy: 0/100 (0.00%)\n",
      "Angle:  125 Average loss: 0.1376, Accuracy: 2/100 (2.00%)\n",
      "Angle:  130 Average loss: 0.1814, Accuracy: 0/100 (0.00%)\n",
      "Angle:  135 Average loss: 0.1669, Accuracy: 1/100 (1.00%)\n",
      "Angle:  140 Average loss: 0.1790, Accuracy: 0/100 (0.00%)\n",
      "Angle:  145 Average loss: 0.1590, Accuracy: 2/100 (2.00%)\n",
      "Angle:  150 Average loss: 0.1695, Accuracy: 0/100 (0.00%)\n",
      "Angle:  155 Average loss: 0.1902, Accuracy: 0/100 (0.00%)\n",
      "Angle:  160 Average loss: 0.2389, Accuracy: 0/100 (0.00%)\n",
      "Angle:  165 Average loss: 0.2026, Accuracy: 0/100 (0.00%)\n",
      "Angle:  170 Average loss: 0.1876, Accuracy: 0/100 (0.00%)\n",
      "Angle:  175 Average loss: 0.1932, Accuracy: 0/100 (0.00%)\n"
     ]
    }
   ],
   "source": [
    "for angle in range(0, 180, 5):\n",
    "    print(\"Angle: \", angle, end=\" \")\n",
    "    newdata = TransferToyData(angle=math.radians(angle))\n",
    "    train_loader, val_loader, test_loader = split_dataset(newdata, val_size=0.1, test_size=0.1, batch_size=32)\n",
    "    test(model, val_loader, criterion, device=device, verbose=True)"
   ]
  },
  {
   "cell_type": "code",
   "execution_count": null,
   "metadata": {},
   "outputs": [],
   "source": []
  }
 ],
 "metadata": {
  "kernelspec": {
   "display_name": "venv",
   "language": "python",
   "name": "python3"
  },
  "language_info": {
   "codemirror_mode": {
    "name": "ipython",
    "version": 3
   },
   "file_extension": ".py",
   "mimetype": "text/x-python",
   "name": "python",
   "nbconvert_exporter": "python",
   "pygments_lexer": "ipython3",
   "version": "3.10.9"
  },
  "orig_nbformat": 4,
  "vscode": {
   "interpreter": {
    "hash": "e2eb92184efe66b42aa15387d477792c03980dca2132a89a8dd7cfbda87719ab"
   }
  }
 },
 "nbformat": 4,
 "nbformat_minor": 2
}
